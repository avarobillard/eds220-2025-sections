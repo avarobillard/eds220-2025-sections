{
 "cells": [
  {
   "cell_type": "markdown",
   "id": "0dee8ad1-3085-49b6-b862-e62c118a0c7a",
   "metadata": {},
   "source": [
    "# Snowshoe hares at Bonanza Creek Experimental Forest\n",
    "### Week 3 discussion section"
   ]
  },
  {
   "cell_type": "markdown",
   "id": "26adf4e7-f4b7-4b23-bb71-f8cd05bbe1cb",
   "metadata": {},
   "source": [
    "### 1. Archive exploration\n",
    "\n",
    "This data contains capture-recapture study data of the physical attributes of snowshoe hares in the Bonanza Creek Experimental Forest, collected from 1999 to 2012.\n",
    "\n",
    "Citation: Kielland, K., F.S. Chapin, R.W. Ruess, and Bonanza Creek LTER. 2017. Snowshoe hare physical data in Bonanza Creek Experimental Forest: 1999-Present ver 22. Environmental Data Initiative. https://doi.org/10.6073/pasta/03dce4856d79b91557d8e6ce2cbcdc14 (Accessed 2025-10-16)."
   ]
  },
  {
   "cell_type": "markdown",
   "id": "4d6af731-252e-48ff-9770-cd5ee1ed4dca",
   "metadata": {},
   "source": [
    "![Snowshoe hare: Photograph by Alan Schmierer](https://upload.wikimedia.org/wikipedia/commons/thumb/8/8a/SNOWSHOE_HARE_%28Lepus_americanus%29_%285-28-2015%29_quoddy_head%2C_washington_co%2C_maine_-01_%2818988734889%29.jpg/1452px-SNOWSHOE_HARE_%28Lepus_americanus%29_%285-28-2015%29_quoddy_head%2C_washington_co%2C_maine_-01_%2818988734889%29.jpg?20170313021652)"
   ]
  },
  {
   "cell_type": "markdown",
   "id": "616f3e6d-18d0-403f-9566-86f15e685f92",
   "metadata": {},
   "source": [
    "### 3. Data loading and preliminary exploration"
   ]
  },
  {
   "cell_type": "code",
   "execution_count": null,
   "id": "94a5979e-3607-4dfb-81e1-3ff6d691c100",
   "metadata": {},
   "outputs": [],
   "source": []
  }
 ],
 "metadata": {
  "kernelspec": {
   "display_name": "EDS220",
   "language": "python",
   "name": "eds220-env"
  },
  "language_info": {
   "codemirror_mode": {
    "name": "ipython",
    "version": 3
   },
   "file_extension": ".py",
   "mimetype": "text/x-python",
   "name": "python",
   "nbconvert_exporter": "python",
   "pygments_lexer": "ipython3",
   "version": "3.11.4"
  }
 },
 "nbformat": 4,
 "nbformat_minor": 5
}
