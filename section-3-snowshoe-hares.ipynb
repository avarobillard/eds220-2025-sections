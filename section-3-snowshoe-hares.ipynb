{
 "cells": [
  {
   "cell_type": "markdown",
   "id": "0dee8ad1-3085-49b6-b862-e62c118a0c7a",
   "metadata": {},
   "source": [
    "# Snowshoe hares at Bonanza Creek Experimental Forest\n",
    "### Week 3 discussion section"
   ]
  },
  {
   "cell_type": "markdown",
   "id": "26adf4e7-f4b7-4b23-bb71-f8cd05bbe1cb",
   "metadata": {},
   "source": [
    "### 1. Archive exploration\n",
    "\n",
    "This data contains capture-recapture study data of the physical attributes of snowshoe hares in the Bonanza Creek Experimental Forest, collected from 1999 to 2012.\n",
    "\n",
    "Citation: Kielland, K., F.S. Chapin, R.W. Ruess, and Bonanza Creek LTER. 2017. Snowshoe hare physical data in Bonanza Creek Experimental Forest: 1999-Present ver 22. Environmental Data Initiative. https://doi.org/10.6073/pasta/03dce4856d79b91557d8e6ce2cbcdc14 (Accessed 2025-10-16)."
   ]
  },
  {
   "cell_type": "markdown",
   "id": "4d6af731-252e-48ff-9770-cd5ee1ed4dca",
   "metadata": {},
   "source": [
    "![Snowshoe hare: Photograph by Alan Schmierer](https://upload.wikimedia.org/wikipedia/commons/thumb/8/8a/SNOWSHOE_HARE_%28Lepus_americanus%29_%285-28-2015%29_quoddy_head%2C_washington_co%2C_maine_-01_%2818988734889%29.jpg/1452px-SNOWSHOE_HARE_%28Lepus_americanus%29_%285-28-2015%29_quoddy_head%2C_washington_co%2C_maine_-01_%2818988734889%29.jpg?20170313021652)"
   ]
  },
  {
   "cell_type": "markdown",
   "id": "616f3e6d-18d0-403f-9566-86f15e685f92",
   "metadata": {},
   "source": [
    "### 3. Data loading and preliminary exploration"
   ]
  },
  {
   "cell_type": "code",
   "execution_count": 9,
   "id": "94a5979e-3607-4dfb-81e1-3ff6d691c100",
   "metadata": {
    "tags": []
   },
   "outputs": [],
   "source": [
    "import pandas as pd"
   ]
  },
  {
   "cell_type": "code",
   "execution_count": 11,
   "id": "9c5f5b1d-4a45-4bcc-94b0-1f08dc894eb0",
   "metadata": {
    "tags": []
   },
   "outputs": [],
   "source": [
    "url = 'https://pasta.lternet.edu/package/data/eml/knb-lter-bnz/55/22/f01f5d71be949b8c700b6ecd1c42c701'\n",
    "\n",
    "hares = pd.read_csv(url)"
   ]
  },
  {
   "cell_type": "code",
   "execution_count": 13,
   "id": "16a12b5d-c4a3-4f53-978c-e2509f0424d5",
   "metadata": {
    "tags": []
   },
   "outputs": [
    {
     "name": "stdout",
     "output_type": "stream",
     "text": [
      "<class 'pandas.core.frame.DataFrame'>\n",
      "RangeIndex: 3380 entries, 0 to 3379\n",
      "Data columns (total 14 columns):\n",
      " #   Column      Non-Null Count  Dtype  \n",
      "---  ------      --------------  -----  \n",
      " 0   date        3380 non-null   object \n",
      " 1   time        264 non-null    object \n",
      " 2   grid        3380 non-null   object \n",
      " 3   trap        3368 non-null   object \n",
      " 4   l_ear       3332 non-null   object \n",
      " 5   r_ear       3211 non-null   object \n",
      " 6   sex         3028 non-null   object \n",
      " 7   age         1269 non-null   object \n",
      " 8   weight      2845 non-null   float64\n",
      " 9   hindft      1633 non-null   float64\n",
      " 10  notes       243 non-null    object \n",
      " 11  b_key       3333 non-null   float64\n",
      " 12  session_id  3380 non-null   int64  \n",
      " 13  study       3217 non-null   object \n",
      "dtypes: float64(3), int64(1), object(10)\n",
      "memory usage: 369.8+ KB\n"
     ]
    }
   ],
   "source": [
    "hares.info()"
   ]
  },
  {
   "cell_type": "code",
   "execution_count": 14,
   "id": "553e8dc0-badb-42de-97dd-0d90325dcdea",
   "metadata": {
    "tags": []
   },
   "outputs": [
    {
     "data": {
      "text/plain": [
       "date             0\n",
       "time          3116\n",
       "grid             0\n",
       "trap            12\n",
       "l_ear           48\n",
       "r_ear          169\n",
       "sex            352\n",
       "age           2111\n",
       "weight         535\n",
       "hindft        1747\n",
       "notes         3137\n",
       "b_key           47\n",
       "session_id       0\n",
       "study          163\n",
       "dtype: int64"
      ]
     },
     "execution_count": 14,
     "metadata": {},
     "output_type": "execute_result"
    }
   ],
   "source": [
    "hares.isna().sum()"
   ]
  },
  {
   "cell_type": "code",
   "execution_count": 21,
   "id": "80733050-da31-48b3-bf59-13766a6633c1",
   "metadata": {
    "tags": []
   },
   "outputs": [
    {
     "data": {
      "text/plain": [
       "weight    2365.0\n",
       "hindft     160.0\n",
       "dtype: float64"
      ]
     },
     "execution_count": 21,
     "metadata": {},
     "output_type": "execute_result"
    }
   ],
   "source": [
    "hares[['weight', 'hindft']].max()"
   ]
  },
  {
   "cell_type": "code",
   "execution_count": 20,
   "id": "9d3e1f37-3585-4d2e-b66e-af29e946459e",
   "metadata": {
    "tags": []
   },
   "outputs": [
    {
     "data": {
      "text/plain": [
       "weight     0.0\n",
       "hindft    60.0\n",
       "dtype: float64"
      ]
     },
     "execution_count": 20,
     "metadata": {},
     "output_type": "execute_result"
    }
   ],
   "source": [
    "hares[['weight', 'hindft']].min()"
   ]
  },
  {
   "cell_type": "code",
   "execution_count": 32,
   "id": "a50809f4-ad18-46f6-bd9d-e6d9ea902839",
   "metadata": {
    "tags": []
   },
   "outputs": [
    {
     "data": {
      "text/plain": [
       "array([nan, 'No right ear tag', 'Escapee', 'Mortality', 'Mortality ',\n",
       "       'Old tag lost in L ear',\n",
       "       'Bunny escaped before second ear tag was added',\n",
       "       'Rabbit too bloody, released', 'R Front Foot Injured',\n",
       "       'L Hind Leg Injured',\n",
       "       'Left Front Foot Injured by Mink. Mink Still Around, Not Shy',\n",
       "       'Injured Bunny, Released, No Tags', 'Died after release',\n",
       "       'Dead in trap', 'Dead', 'non-pregnant',\n",
       "       'pregnant (2 peanut sized babies)', 'pregnant', 'Pregnant',\n",
       "       'Pregnant; last collar was chewed off',\n",
       "       '149.074 recapture; collar loose, removed and replaced; non-pregnant',\n",
       "       'previous collar was chewed off',\n",
       "       '149.013 came off/removed; replaced',\n",
       "       '149.033 recapture; collar loose, removed and replaced',\n",
       "       'previous collar fell off',\n",
       "       'collar previously chewed off (put back on the same bunny!)',\n",
       "       'collar broke off, caught in cage', 'dead in trap',\n",
       "       '149.754 recapture; no VHF signal, removed and replaced',\n",
       "       '149.614 recapture; no VHF signal, removed and replaced',\n",
       "       'tick 19',\n",
       "       '149.474 recapture; low battery, removed collar and replaced',\n",
       "       '149.844 recapture; signal very quiet, removed collar and replaced',\n",
       "       'baby', '149.773 recapture; no VHF signal, removed and replaced',\n",
       "       'tick 18',\n",
       "       'removed GPS collar 151.243 (transmitter dead), trapped N of BONRIP grid',\n",
       "       '149.853 recapture; removed collar and replaced',\n",
       "       'ear punch and blood sample taken', 'ear punch taken',\n",
       "       'blood sample taken',\n",
       "       '149.834 recapture; no signal from transmitter, removed collar; ear punch taken',\n",
       "       'GPS collar',\n",
       "       '149.535 recapture; removed due to injury from overtightening',\n",
       "       'removed iButton that was falling off',\n",
       "       '151.243 GPS recapture; removed collar and replaced with VHF collar',\n",
       "       '150.540 GPS recapture; removed collar',\n",
       "       '151.243 GPS recapture; removed collar',\n",
       "       '150.510 GPS recapture; removed collar',\n",
       "       '150.520 GPS recapture off grid; removed GPS collar and replaced with VHF',\n",
       "       '149.334 recapture; no VHF signal, removed collar and replaced',\n",
       "       '149.874 recapture; no VHF signal, removed collar and replaced',\n",
       "       '149.615 recapture; \"kchunk\" VHF signal, removed collar and replaced',\n",
       "       '149.112 recapture; VHF signal strange, removed collar and replaced',\n",
       "       'no tags until 4/18/11', 'tags given today',\n",
       "       'tons of ticks on ears inside and out, as well as top of head, eyes, etc.',\n",
       "       '149.763 recapture; no signal from transmitter, removed and replaced with 149.802; weird ear growth/scab protruding upward from the ear over an inch! Bloody at base',\n",
       "       'yes, captured the same bunny as in 5a!',\n",
       "       '149.723 recapture; removed and replaced with GPS collar 151.273',\n",
       "       '149.844 recapture; removed and replaced with GPS collar 150.510',\n",
       "       '149.802 recapture; removed and replaced with GPS collar 150.520',\n",
       "       '149.744 recapture; removed and replaced with GPS collar 150.530',\n",
       "       '149.814 recapture; removed and replaced with GPS collar 150.540',\n",
       "       'untagged juvenile', 'escaped without replacing collar',\n",
       "       'untagged juvenile dead in trap',\n",
       "       'GPS antenna still attached to zip tie',\n",
       "       '149.723 removed; foot caught in collar',\n",
       "       '149.814 removed; collar too tight', 'New right ear tag',\n",
       "       'No tags given until 11/6/11',\n",
       "       'Trap overturned with lots of digging; hare seems ok',\n",
       "       'RIGHT LEG INJURED IN TRAP', 'DEAD NEAR TRAP', 'DEAD - UNTAGGED ',\n",
       "       'collar 149.373 fell off since last trapping',\n",
       "       'collar fell off since last trapping', 'removed collar in mouth',\n",
       "       'collar fell off sometime before next capture and was found at 3A',\n",
       "       'bunny escaped; has collar', 'mort', 'No right ear tag given.',\n",
       "       'No right ear tag until 9/8/10.',\n",
       "       'left ear tag fell out later, changed to a3132',\n",
       "       'caught two hares in one trap, let both go',\n",
       "       'previously different left ear tag',\n",
       "       'two collars! (also has 149.013)', 'injured in trap, euthanised',\n",
       "       '149.595 recapture; low batteries, removed and replaced',\n",
       "       'batteries ded',\n",
       "       'trap was moved a bit; tar paper off, ground scuffed up',\n",
       "       'no VHF signal, removed collar',\n",
       "       'diggings around cage (probably lynx); eyes watery',\n",
       "       'blood on nose; extremely docile, but sprinted away with plenty of energy',\n",
       "       '149.373 recapture; no VHF signal, removed collar and replaced',\n",
       "       'died in handling, removed collar',\n",
       "       '149.136 recapture; no VHF signal, removed collar and replaced',\n",
       "       '149.434 recapture; no VHF signal, removed collar and replaced',\n",
       "       '149.795 recapture; no VHF signal, removed collar and replaced',\n",
       "       '149.674 recapture; no VHF signal, removed collar and replaced',\n",
       "       'descended testes',\n",
       "       '149.033 recapture; no VHF signal, removed collar and replaced',\n",
       "       '149.413 recapture; no VHF signal, removed collar and replaced',\n",
       "       '149.393 recapture; no VHF signal, removed collar and replaced',\n",
       "       'wrong tag numbers???', 'lethargic, did not hop away',\n",
       "       \"previously a3210/a3211, but both tags must've fallen out because they were put in with a leatherman!\",\n",
       "       'Hare on verge of death, occasional spastic motion with legs, unable to sit upright. Removed collar.',\n",
       "       'Gave birth to 5 leverets in trap (50, 50, 50, 50, 60 g, all dead) and female near death, removed collar.',\n",
       "       'New, untagged hare. Injured right hind foot (possibly by predator overnight). Let go.',\n",
       "       'Juvenile', 'juvenile',\n",
       "       'Removed thinking it was 149.194 that had expired', 'Collared',\n",
       "       'testes descended', \"thought collar was silent, but it wasn't\",\n",
       "       'lots of ticks, fur patchy and mangy looking',\n",
       "       'cut collar, hare near death, died an hour after release'],\n",
       "      dtype=object)"
      ]
     },
     "execution_count": 32,
     "metadata": {},
     "output_type": "execute_result"
    }
   ],
   "source": [
    "hares['notes'].unique()"
   ]
  },
  {
   "cell_type": "markdown",
   "id": "3e93fa34-f445-475a-bb19-1511dd483b0c",
   "metadata": {},
   "source": [
    "Is there an association between weight and hind feet length?"
   ]
  },
  {
   "cell_type": "code",
   "execution_count": null,
   "id": "906e7d5e-76b8-4836-aaf6-b46ec841bb65",
   "metadata": {},
   "outputs": [],
   "source": []
  }
 ],
 "metadata": {
  "kernelspec": {
   "display_name": "EDS220",
   "language": "python",
   "name": "eds220-env"
  },
  "language_info": {
   "codemirror_mode": {
    "name": "ipython",
    "version": 3
   },
   "file_extension": ".py",
   "mimetype": "text/x-python",
   "name": "python",
   "nbconvert_exporter": "python",
   "pygments_lexer": "ipython3",
   "version": "3.11.4"
  }
 },
 "nbformat": 4,
 "nbformat_minor": 5
}
