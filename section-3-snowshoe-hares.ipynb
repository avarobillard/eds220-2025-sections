{
 "cells": [
  {
   "cell_type": "markdown",
   "id": "0dee8ad1-3085-49b6-b862-e62c118a0c7a",
   "metadata": {},
   "source": [
    "# Snowshoe hares at Bonanza Creek Experimental Forest\n",
    "### Week 3 discussion section"
   ]
  },
  {
   "cell_type": "markdown",
   "id": "26adf4e7-f4b7-4b23-bb71-f8cd05bbe1cb",
   "metadata": {},
   "source": [
    "### 1. Archive exploration\n",
    "\n",
    "This data contains capture-recapture study data of the physical attributes of snowshoe hares in the Bonanza Creek Experimental Forest, collected from 1999 to 2012.\n",
    "\n",
    "Citation: Kielland, K., F.S. Chapin, R.W. Ruess, and Bonanza Creek LTER. 2017. Snowshoe hare physical data in Bonanza Creek Experimental Forest: 1999-Present ver 22. Environmental Data Initiative. https://doi.org/10.6073/pasta/03dce4856d79b91557d8e6ce2cbcdc14 (Accessed 2025-10-16)."
   ]
  },
  {
   "cell_type": "markdown",
   "id": "4d6af731-252e-48ff-9770-cd5ee1ed4dca",
   "metadata": {},
   "source": [
    "![Snowshoe hare: Photograph by Alan Schmierer](https://upload.wikimedia.org/wikipedia/commons/thumb/8/8a/SNOWSHOE_HARE_%28Lepus_americanus%29_%285-28-2015%29_quoddy_head%2C_washington_co%2C_maine_-01_%2818988734889%29.jpg/1452px-SNOWSHOE_HARE_%28Lepus_americanus%29_%285-28-2015%29_quoddy_head%2C_washington_co%2C_maine_-01_%2818988734889%29.jpg?20170313021652)"
   ]
  },
  {
   "cell_type": "markdown",
   "id": "616f3e6d-18d0-403f-9566-86f15e685f92",
   "metadata": {},
   "source": [
    "### 3. Data loading and preliminary exploration"
   ]
  },
  {
   "cell_type": "code",
   "execution_count": 62,
   "id": "94a5979e-3607-4dfb-81e1-3ff6d691c100",
   "metadata": {
    "tags": []
   },
   "outputs": [],
   "source": [
    "import pandas as pd\n",
    "import numpy as np"
   ]
  },
  {
   "cell_type": "code",
   "execution_count": 80,
   "id": "9c5f5b1d-4a45-4bcc-94b0-1f08dc894eb0",
   "metadata": {
    "tags": []
   },
   "outputs": [],
   "source": [
    "url = 'https://pasta.lternet.edu/package/data/eml/knb-lter-bnz/55/22/f01f5d71be949b8c700b6ecd1c42c701'\n",
    "\n",
    "hares = pd.read_csv(url)"
   ]
  },
  {
   "cell_type": "code",
   "execution_count": 13,
   "id": "16a12b5d-c4a3-4f53-978c-e2509f0424d5",
   "metadata": {
    "tags": []
   },
   "outputs": [
    {
     "name": "stdout",
     "output_type": "stream",
     "text": [
      "<class 'pandas.core.frame.DataFrame'>\n",
      "RangeIndex: 3380 entries, 0 to 3379\n",
      "Data columns (total 14 columns):\n",
      " #   Column      Non-Null Count  Dtype  \n",
      "---  ------      --------------  -----  \n",
      " 0   date        3380 non-null   object \n",
      " 1   time        264 non-null    object \n",
      " 2   grid        3380 non-null   object \n",
      " 3   trap        3368 non-null   object \n",
      " 4   l_ear       3332 non-null   object \n",
      " 5   r_ear       3211 non-null   object \n",
      " 6   sex         3028 non-null   object \n",
      " 7   age         1269 non-null   object \n",
      " 8   weight      2845 non-null   float64\n",
      " 9   hindft      1633 non-null   float64\n",
      " 10  notes       243 non-null    object \n",
      " 11  b_key       3333 non-null   float64\n",
      " 12  session_id  3380 non-null   int64  \n",
      " 13  study       3217 non-null   object \n",
      "dtypes: float64(3), int64(1), object(10)\n",
      "memory usage: 369.8+ KB\n"
     ]
    }
   ],
   "source": [
    "hares.info()"
   ]
  },
  {
   "cell_type": "code",
   "execution_count": 14,
   "id": "553e8dc0-badb-42de-97dd-0d90325dcdea",
   "metadata": {
    "tags": []
   },
   "outputs": [
    {
     "data": {
      "text/plain": [
       "date             0\n",
       "time          3116\n",
       "grid             0\n",
       "trap            12\n",
       "l_ear           48\n",
       "r_ear          169\n",
       "sex            352\n",
       "age           2111\n",
       "weight         535\n",
       "hindft        1747\n",
       "notes         3137\n",
       "b_key           47\n",
       "session_id       0\n",
       "study          163\n",
       "dtype: int64"
      ]
     },
     "execution_count": 14,
     "metadata": {},
     "output_type": "execute_result"
    }
   ],
   "source": [
    "hares.isna().sum()"
   ]
  },
  {
   "cell_type": "code",
   "execution_count": 21,
   "id": "80733050-da31-48b3-bf59-13766a6633c1",
   "metadata": {
    "tags": []
   },
   "outputs": [
    {
     "data": {
      "text/plain": [
       "weight    2365.0\n",
       "hindft     160.0\n",
       "dtype: float64"
      ]
     },
     "execution_count": 21,
     "metadata": {},
     "output_type": "execute_result"
    }
   ],
   "source": [
    "hares[['weight', 'hindft']].max()"
   ]
  },
  {
   "cell_type": "code",
   "execution_count": 20,
   "id": "9d3e1f37-3585-4d2e-b66e-af29e946459e",
   "metadata": {
    "tags": []
   },
   "outputs": [
    {
     "data": {
      "text/plain": [
       "weight     0.0\n",
       "hindft    60.0\n",
       "dtype: float64"
      ]
     },
     "execution_count": 20,
     "metadata": {},
     "output_type": "execute_result"
    }
   ],
   "source": [
    "hares[['weight', 'hindft']].min()"
   ]
  },
  {
   "cell_type": "code",
   "execution_count": 40,
   "id": "a50809f4-ad18-46f6-bd9d-e6d9ea902839",
   "metadata": {
    "tags": []
   },
   "outputs": [
    {
     "data": {
      "text/plain": [
       "array([nan, 'M', 'F', '?', 'F?', 'M?', 'pf', 'm', 'f', 'f?', 'm?', 'f ',\n",
       "       'm '], dtype=object)"
      ]
     },
     "execution_count": 40,
     "metadata": {},
     "output_type": "execute_result"
    }
   ],
   "source": [
    "hares['sex'].unique()"
   ]
  },
  {
   "cell_type": "markdown",
   "id": "3e93fa34-f445-475a-bb19-1511dd483b0c",
   "metadata": {},
   "source": [
    "Is there an association between weight and hind feet length?"
   ]
  },
  {
   "cell_type": "markdown",
   "id": "7dc67d27-415f-46ce-bc2b-168ab7cdb909",
   "metadata": {},
   "source": [
    "### 4. Detecting messy values\n",
    "\n",
    "| Value   | Description|\n",
    "|---------|------------|\n",
    "| m       |  male      |\n",
    "| f       | female     |\n",
    "| m?      | male not confirmed |\n",
    "| f?      | female not confirmed |"
   ]
  },
  {
   "cell_type": "code",
   "execution_count": 58,
   "id": "3963d945-56e8-4d71-a7a8-b04c51526b88",
   "metadata": {
    "tags": []
   },
   "outputs": [
    {
     "data": {
      "text/plain": [
       "sex\n",
       "F     1161\n",
       "M      730\n",
       "f      556\n",
       "m      515\n",
       "?       40\n",
       "F?      10\n",
       "f        4\n",
       "m        4\n",
       "f?       3\n",
       "M?       2\n",
       "m?       2\n",
       "pf       1\n",
       "Name: count, dtype: int64"
      ]
     },
     "execution_count": 58,
     "metadata": {},
     "output_type": "execute_result"
    }
   ],
   "source": [
    "hares['sex'].value_counts()"
   ]
  },
  {
   "cell_type": "code",
   "execution_count": 59,
   "id": "b375d61d-9466-459e-a6f8-40dbcf530798",
   "metadata": {
    "tags": []
   },
   "outputs": [
    {
     "data": {
      "text/plain": [
       "sex\n",
       "F      1161\n",
       "M       730\n",
       "f       556\n",
       "m       515\n",
       "NaN     352\n",
       "?        40\n",
       "F?       10\n",
       "f         4\n",
       "m         4\n",
       "f?        3\n",
       "M?        2\n",
       "m?        2\n",
       "pf        1\n",
       "Name: count, dtype: int64"
      ]
     },
     "execution_count": 59,
     "metadata": {},
     "output_type": "execute_result"
    }
   ],
   "source": [
    "hares['sex'].value_counts(dropna = False)"
   ]
  },
  {
   "cell_type": "markdown",
   "id": "eccd08ae-ea6b-4e28-8733-f7306089b017",
   "metadata": {},
   "source": [
    "The values in the sex column don't match the metadata, possibly due to citizen science entries varying slightly and unclear sampling methods/data entry errors. There are spaces, capital and non capital."
   ]
  },
  {
   "cell_type": "code",
   "execution_count": 61,
   "id": "e3f2f280-2d65-4d2e-b62b-3784668f7a5b",
   "metadata": {
    "tags": []
   },
   "outputs": [
    {
     "data": {
      "text/plain": [
       "12"
      ]
     },
     "execution_count": 61,
     "metadata": {},
     "output_type": "execute_result"
    }
   ],
   "source": [
    "# Confirm duplicate values\n",
    "hares['sex'].nunique()"
   ]
  },
  {
   "cell_type": "markdown",
   "id": "c3a0a822-6508-4a2c-b127-c2020040af61",
   "metadata": {},
   "source": [
    "### 5. Brainstorm"
   ]
  },
  {
   "cell_type": "markdown",
   "id": "cf7b80b8-2249-42c9-9384-8ab00eb364fe",
   "metadata": {},
   "source": [
    "Remove white space, tolower, delete m? and f?"
   ]
  },
  {
   "cell_type": "markdown",
   "id": "4442a062-2a35-4758-812c-9d207cf10430",
   "metadata": {},
   "source": [
    "### 6. Clean values"
   ]
  },
  {
   "cell_type": "code",
   "execution_count": 81,
   "id": "8140cc9a-ee87-4c75-a2be-0d5165b1e887",
   "metadata": {
    "tags": []
   },
   "outputs": [],
   "source": [
    "# Or x = hares.sex, conditons = [x.isisn([\"m...\"]), x.isin([\"f...\"])]\n",
    "\n",
    "conditions = [\n",
    "    ((hares['sex'] == 'm') | (hares['sex'] == 'm_')|(hares['sex'] == 'M')),\n",
    "    ((hares['sex'] == 'f') | (hares['sex'] == 'f_')| (hares['sex'] == 'F')),\n",
    "]\n",
    "choices = ['Male', 'Female']\n",
    "hares['simple_sex'] = np.select(conditions, choices, default=np.nan)"
   ]
  },
  {
   "cell_type": "code",
   "execution_count": 85,
   "id": "15e03ea9-216a-481d-ad6f-4feb312736a2",
   "metadata": {
    "tags": []
   },
   "outputs": [
    {
     "data": {
      "text/html": [
       "<div>\n",
       "<style scoped>\n",
       "    .dataframe tbody tr th:only-of-type {\n",
       "        vertical-align: middle;\n",
       "    }\n",
       "\n",
       "    .dataframe tbody tr th {\n",
       "        vertical-align: top;\n",
       "    }\n",
       "\n",
       "    .dataframe thead th {\n",
       "        text-align: right;\n",
       "    }\n",
       "</style>\n",
       "<table border=\"1\" class=\"dataframe\">\n",
       "  <thead>\n",
       "    <tr style=\"text-align: right;\">\n",
       "      <th></th>\n",
       "      <th>date</th>\n",
       "      <th>time</th>\n",
       "      <th>grid</th>\n",
       "      <th>trap</th>\n",
       "      <th>l_ear</th>\n",
       "      <th>r_ear</th>\n",
       "      <th>sex</th>\n",
       "      <th>age</th>\n",
       "      <th>weight</th>\n",
       "      <th>hindft</th>\n",
       "      <th>notes</th>\n",
       "      <th>b_key</th>\n",
       "      <th>session_id</th>\n",
       "      <th>study</th>\n",
       "      <th>simple_sex</th>\n",
       "    </tr>\n",
       "  </thead>\n",
       "  <tbody>\n",
       "    <tr>\n",
       "      <th>0</th>\n",
       "      <td>11/26/1998</td>\n",
       "      <td>NaN</td>\n",
       "      <td>bonrip</td>\n",
       "      <td>1A</td>\n",
       "      <td>414D096A08</td>\n",
       "      <td>NaN</td>\n",
       "      <td>NaN</td>\n",
       "      <td>NaN</td>\n",
       "      <td>1370.0</td>\n",
       "      <td>160.0</td>\n",
       "      <td>NaN</td>\n",
       "      <td>917.0</td>\n",
       "      <td>51</td>\n",
       "      <td>Population</td>\n",
       "      <td>nan</td>\n",
       "    </tr>\n",
       "    <tr>\n",
       "      <th>1</th>\n",
       "      <td>11/26/1998</td>\n",
       "      <td>NaN</td>\n",
       "      <td>bonrip</td>\n",
       "      <td>2C</td>\n",
       "      <td>414D320671</td>\n",
       "      <td>NaN</td>\n",
       "      <td>M</td>\n",
       "      <td>NaN</td>\n",
       "      <td>1430.0</td>\n",
       "      <td>NaN</td>\n",
       "      <td>NaN</td>\n",
       "      <td>936.0</td>\n",
       "      <td>51</td>\n",
       "      <td>Population</td>\n",
       "      <td>Male</td>\n",
       "    </tr>\n",
       "    <tr>\n",
       "      <th>2</th>\n",
       "      <td>11/26/1998</td>\n",
       "      <td>NaN</td>\n",
       "      <td>bonrip</td>\n",
       "      <td>2D</td>\n",
       "      <td>414D103E3A</td>\n",
       "      <td>NaN</td>\n",
       "      <td>M</td>\n",
       "      <td>NaN</td>\n",
       "      <td>1430.0</td>\n",
       "      <td>NaN</td>\n",
       "      <td>NaN</td>\n",
       "      <td>921.0</td>\n",
       "      <td>51</td>\n",
       "      <td>Population</td>\n",
       "      <td>Male</td>\n",
       "    </tr>\n",
       "    <tr>\n",
       "      <th>3</th>\n",
       "      <td>11/26/1998</td>\n",
       "      <td>NaN</td>\n",
       "      <td>bonrip</td>\n",
       "      <td>2E</td>\n",
       "      <td>414D262D43</td>\n",
       "      <td>NaN</td>\n",
       "      <td>NaN</td>\n",
       "      <td>NaN</td>\n",
       "      <td>1490.0</td>\n",
       "      <td>135.0</td>\n",
       "      <td>NaN</td>\n",
       "      <td>931.0</td>\n",
       "      <td>51</td>\n",
       "      <td>Population</td>\n",
       "      <td>nan</td>\n",
       "    </tr>\n",
       "    <tr>\n",
       "      <th>4</th>\n",
       "      <td>11/26/1998</td>\n",
       "      <td>NaN</td>\n",
       "      <td>bonrip</td>\n",
       "      <td>3B</td>\n",
       "      <td>414D2B4B58</td>\n",
       "      <td>NaN</td>\n",
       "      <td>NaN</td>\n",
       "      <td>NaN</td>\n",
       "      <td>1710.0</td>\n",
       "      <td>150.0</td>\n",
       "      <td>NaN</td>\n",
       "      <td>933.0</td>\n",
       "      <td>51</td>\n",
       "      <td>Population</td>\n",
       "      <td>nan</td>\n",
       "    </tr>\n",
       "    <tr>\n",
       "      <th>5</th>\n",
       "      <td>11/26/1998</td>\n",
       "      <td>NaN</td>\n",
       "      <td>bonrip</td>\n",
       "      <td>3D</td>\n",
       "      <td>414D193011</td>\n",
       "      <td>NaN</td>\n",
       "      <td>F</td>\n",
       "      <td>NaN</td>\n",
       "      <td>1890.0</td>\n",
       "      <td>145.0</td>\n",
       "      <td>NaN</td>\n",
       "      <td>926.0</td>\n",
       "      <td>51</td>\n",
       "      <td>Population</td>\n",
       "      <td>Female</td>\n",
       "    </tr>\n",
       "    <tr>\n",
       "      <th>6</th>\n",
       "      <td>11/26/1998</td>\n",
       "      <td>NaN</td>\n",
       "      <td>bonrip</td>\n",
       "      <td>4A</td>\n",
       "      <td>414D0F5B3D</td>\n",
       "      <td>NaN</td>\n",
       "      <td>NaN</td>\n",
       "      <td>NaN</td>\n",
       "      <td>2170.0</td>\n",
       "      <td>140.0</td>\n",
       "      <td>NaN</td>\n",
       "      <td>920.0</td>\n",
       "      <td>51</td>\n",
       "      <td>Population</td>\n",
       "      <td>nan</td>\n",
       "    </tr>\n",
       "    <tr>\n",
       "      <th>7</th>\n",
       "      <td>11/26/1998</td>\n",
       "      <td>NaN</td>\n",
       "      <td>bonrip</td>\n",
       "      <td>4B</td>\n",
       "      <td>414D12350C</td>\n",
       "      <td>NaN</td>\n",
       "      <td>NaN</td>\n",
       "      <td>NaN</td>\n",
       "      <td>2170.0</td>\n",
       "      <td>NaN</td>\n",
       "      <td>NaN</td>\n",
       "      <td>923.0</td>\n",
       "      <td>51</td>\n",
       "      <td>Population</td>\n",
       "      <td>nan</td>\n",
       "    </tr>\n",
       "    <tr>\n",
       "      <th>8</th>\n",
       "      <td>11/26/1998</td>\n",
       "      <td>NaN</td>\n",
       "      <td>bonrip</td>\n",
       "      <td>4C</td>\n",
       "      <td>414D197C34</td>\n",
       "      <td>NaN</td>\n",
       "      <td>M</td>\n",
       "      <td>NaN</td>\n",
       "      <td>1510.0</td>\n",
       "      <td>134.0</td>\n",
       "      <td>NaN</td>\n",
       "      <td>927.0</td>\n",
       "      <td>51</td>\n",
       "      <td>Population</td>\n",
       "      <td>Male</td>\n",
       "    </tr>\n",
       "    <tr>\n",
       "      <th>9</th>\n",
       "      <td>11/26/1998</td>\n",
       "      <td>NaN</td>\n",
       "      <td>bonrip</td>\n",
       "      <td>4E</td>\n",
       "      <td>414D1D0559</td>\n",
       "      <td>NaN</td>\n",
       "      <td>M</td>\n",
       "      <td>NaN</td>\n",
       "      <td>1590.0</td>\n",
       "      <td>NaN</td>\n",
       "      <td>NaN</td>\n",
       "      <td>928.0</td>\n",
       "      <td>51</td>\n",
       "      <td>Population</td>\n",
       "      <td>Male</td>\n",
       "    </tr>\n",
       "  </tbody>\n",
       "</table>\n",
       "</div>"
      ],
      "text/plain": [
       "         date time    grid trap       l_ear r_ear  sex  age  weight  hindft  \\\n",
       "0  11/26/1998  NaN  bonrip   1A  414D096A08   NaN  NaN  NaN  1370.0   160.0   \n",
       "1  11/26/1998  NaN  bonrip   2C  414D320671   NaN    M  NaN  1430.0     NaN   \n",
       "2  11/26/1998  NaN  bonrip   2D  414D103E3A   NaN    M  NaN  1430.0     NaN   \n",
       "3  11/26/1998  NaN  bonrip   2E  414D262D43   NaN  NaN  NaN  1490.0   135.0   \n",
       "4  11/26/1998  NaN  bonrip   3B  414D2B4B58   NaN  NaN  NaN  1710.0   150.0   \n",
       "5  11/26/1998  NaN  bonrip   3D  414D193011   NaN    F  NaN  1890.0   145.0   \n",
       "6  11/26/1998  NaN  bonrip   4A  414D0F5B3D   NaN  NaN  NaN  2170.0   140.0   \n",
       "7  11/26/1998  NaN  bonrip   4B  414D12350C   NaN  NaN  NaN  2170.0     NaN   \n",
       "8  11/26/1998  NaN  bonrip   4C  414D197C34   NaN    M  NaN  1510.0   134.0   \n",
       "9  11/26/1998  NaN  bonrip   4E  414D1D0559   NaN    M  NaN  1590.0     NaN   \n",
       "\n",
       "  notes  b_key  session_id       study simple_sex  \n",
       "0   NaN  917.0          51  Population        nan  \n",
       "1   NaN  936.0          51  Population       Male  \n",
       "2   NaN  921.0          51  Population       Male  \n",
       "3   NaN  931.0          51  Population        nan  \n",
       "4   NaN  933.0          51  Population        nan  \n",
       "5   NaN  926.0          51  Population     Female  \n",
       "6   NaN  920.0          51  Population        nan  \n",
       "7   NaN  923.0          51  Population        nan  \n",
       "8   NaN  927.0          51  Population       Male  \n",
       "9   NaN  928.0          51  Population       Male  "
      ]
     },
     "execution_count": 85,
     "metadata": {},
     "output_type": "execute_result"
    }
   ],
   "source": [
    "hares.head(10)"
   ]
  },
  {
   "cell_type": "markdown",
   "id": "583c6c02-0516-42ed-b8bb-8858bc1b598f",
   "metadata": {},
   "source": [
    "### 7. Calculate mean weight"
   ]
  },
  {
   "cell_type": "code",
   "execution_count": 84,
   "id": "493bcd61-7e13-4117-8353-2c997a608836",
   "metadata": {
    "tags": []
   },
   "outputs": [
    {
     "data": {
      "text/plain": [
       "simple_sex\n",
       "Female    1366.920372\n",
       "Male      1352.145553\n",
       "nan       1176.511111\n",
       "Name: weight, dtype: float64"
      ]
     },
     "execution_count": 84,
     "metadata": {},
     "output_type": "execute_result"
    }
   ],
   "source": [
    "hares.groupby(by = \"simple_sex\")['weight'].mean()"
   ]
  },
  {
   "cell_type": "markdown",
   "id": "e2b59524-9837-4e40-bb7b-fbfec1cd2d27",
   "metadata": {},
   "source": [
    "Female snowshoe hares tend to weigh about 14 more grams than male snowshoe hares."
   ]
  },
  {
   "cell_type": "markdown",
   "id": "72900b92-79b0-416e-98db-835248dd90fc",
   "metadata": {},
   "source": [
    "### 8. Workflow"
   ]
  },
  {
   "cell_type": "code",
   "execution_count": 1,
   "id": "8b35b7a7-6124-4a29-ae65-45fc77fea0b3",
   "metadata": {
    "tags": []
   },
   "outputs": [
    {
     "data": {
      "text/plain": [
       "simple_sex\n",
       "Female    1366.920372\n",
       "Male      1352.145553\n",
       "nan       1176.511111\n",
       "Name: weight, dtype: float64"
      ]
     },
     "execution_count": 1,
     "metadata": {},
     "output_type": "execute_result"
    }
   ],
   "source": [
    "import pandas as pd\n",
    "import numpy as np\n",
    "\n",
    "# Import data\n",
    "url = 'https://pasta.lternet.edu/package/data/eml/knb-lter-bnz/55/22/f01f5d71be949b8c700b6ecd1c42c701'\n",
    "\n",
    "hares = pd.read_csv(url)\n",
    "\n",
    "# Clean sex value column and calculate mean weight\n",
    "conditions = [\n",
    "    ((hares['sex'] == 'm') | (hares['sex'] == 'm_')|(hares['sex'] == 'M')),\n",
    "    ((hares['sex'] == 'f') | (hares['sex'] == 'f_')| (hares['sex'] == 'F')),\n",
    "]\n",
    "choices = ['Male', 'Female']\n",
    "hares['simple_sex'] = np.select(conditions, choices, default=np.nan)\n",
    "\n",
    "# Calculate mean weight\n",
    "hares.groupby(by = \"simple_sex\")['weight'].mean()"
   ]
  }
 ],
 "metadata": {
  "kernelspec": {
   "display_name": "EDS220",
   "language": "python",
   "name": "eds220-env"
  },
  "language_info": {
   "codemirror_mode": {
    "name": "ipython",
    "version": 3
   },
   "file_extension": ".py",
   "mimetype": "text/x-python",
   "name": "python",
   "nbconvert_exporter": "python",
   "pygments_lexer": "ipython3",
   "version": "3.11.4"
  }
 },
 "nbformat": 4,
 "nbformat_minor": 5
}
