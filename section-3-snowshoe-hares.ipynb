{
 "cells": [
  {
   "cell_type": "markdown",
   "id": "0dee8ad1-3085-49b6-b862-e62c118a0c7a",
   "metadata": {},
   "source": [
    "# Snowshoe hares at Bonanza Creek Experimental Forest\n",
    "### Week 3 discussion section"
   ]
  },
  {
   "cell_type": "markdown",
   "id": "26adf4e7-f4b7-4b23-bb71-f8cd05bbe1cb",
   "metadata": {},
   "source": [
    "### 1. Archive exploration\n",
    "\n",
    "This data contains capture-recapture study data of the physical attributes of snowshoe hares in the Bonanza Creek Experimental Forest, collected from 1999 to 2012.\n",
    "\n",
    "Citation: Kielland, K., F.S. Chapin, R.W. Ruess, and Bonanza Creek LTER. 2017. Snowshoe hare physical data in Bonanza Creek Experimental Forest: 1999-Present ver 22. Environmental Data Initiative. https://doi.org/10.6073/pasta/03dce4856d79b91557d8e6ce2cbcdc14 (Accessed 2025-10-16)."
   ]
  },
  {
   "cell_type": "code",
   "execution_count": null,
   "id": "f51d0f8b-0165-4a50-941b-6d567141cdd9",
   "metadata": {},
   "outputs": [],
   "source": []
  }
 ],
 "metadata": {
  "kernelspec": {
   "display_name": "EDS220",
   "language": "python",
   "name": "eds220-env"
  },
  "language_info": {
   "codemirror_mode": {
    "name": "ipython",
    "version": 3
   },
   "file_extension": ".py",
   "mimetype": "text/x-python",
   "name": "python",
   "nbconvert_exporter": "python",
   "pygments_lexer": "ipython3",
   "version": "3.11.4"
  }
 },
 "nbformat": 4,
 "nbformat_minor": 5
}
