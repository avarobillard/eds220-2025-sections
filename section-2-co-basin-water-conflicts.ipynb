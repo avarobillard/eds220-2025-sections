{
 "cells": [
  {
   "cell_type": "markdown",
   "id": "12f5734c-db0b-4bd5-a15f-264d5e15775e",
   "metadata": {},
   "source": [
    "# Water conflicts in the Colorado River Basin\n",
    "### Week 2- Discussion section"
   ]
  },
  {
   "cell_type": "markdown",
   "id": "850d7f81-6f43-4e9b-8908-16727246cf47",
   "metadata": {},
   "source": [
    "### 1. Archive exploration\n",
    "\n",
    "This data was collected from the **Colorado River Basin** between 2005 and 2021, generally through studying water-related meetings and reading articles and newspapers. The author hopes that this data will help with an understanding of conflict around water resource management and provide background information to for USGS reports.\n",
    "\n",
    "Citation:\n",
    "\n",
    "Holloman, D.V., Hines, M.K., and Zoanni, D.K., 2023, Coded Water Conflict and Crisis Events in the Colorado River Basin, Derived from LexisNexis search 2005-2021: U.S. Geological Survey data release, https://doi.org/10.5066/P9X6WR7J. Accessed October 9th, 2025."
   ]
  },
  {
   "cell_type": "markdown",
   "id": "82b7d7eb-59ee-4eb2-97ac-f11a03ae98fe",
   "metadata": {},
   "source": [
    "### 2. Data loading"
   ]
  },
  {
   "cell_type": "code",
   "execution_count": null,
   "id": "1be01b33-65ca-4ee6-aef1-2fe800a483e6",
   "metadata": {},
   "outputs": [],
   "source": []
  }
 ],
 "metadata": {
  "kernelspec": {
   "display_name": "EDS220",
   "language": "python",
   "name": "eds220-env"
  },
  "language_info": {
   "codemirror_mode": {
    "name": "ipython",
    "version": 3
   },
   "file_extension": ".py",
   "mimetype": "text/x-python",
   "name": "python",
   "nbconvert_exporter": "python",
   "pygments_lexer": "ipython3",
   "version": "3.11.4"
  }
 },
 "nbformat": 4,
 "nbformat_minor": 5
}
